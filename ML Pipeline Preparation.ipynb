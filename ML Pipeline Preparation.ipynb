{
 "cells": [
  {
   "cell_type": "markdown",
   "metadata": {},
   "source": [
    "# ML Pipeline Preparation\n",
    "Follow the instructions below to help you create your ML pipeline.\n",
    "### 1. Import libraries and load data from database.\n",
    "- Import Python libraries\n",
    "- Load dataset from database with [`read_sql_table`](https://pandas.pydata.org/pandas-docs/stable/generated/pandas.read_sql_table.html)\n",
    "- Define feature and target variables X and Y"
   ]
  },
  {
   "cell_type": "code",
   "execution_count": 28,
   "metadata": {},
   "outputs": [
    {
     "name": "stdout",
     "output_type": "stream",
     "text": [
      "[nltk_data] Downloading package punkt to /root/nltk_data...\n",
      "[nltk_data]   Package punkt is already up-to-date!\n",
      "[nltk_data] Downloading package wordnet to /root/nltk_data...\n",
      "[nltk_data]   Package wordnet is already up-to-date!\n",
      "[nltk_data] Downloading package stopwords to /root/nltk_data...\n",
      "[nltk_data]   Package stopwords is already up-to-date!\n"
     ]
    }
   ],
   "source": [
    "# import libraries\n",
    "import pandas as pd\n",
    "from sqlalchemy import create_engine\n",
    "import nltk\n",
    "from sklearn.pipeline import Pipeline\n",
    "nltk.download(['punkt','wordnet'])\n",
    "import re\n",
    "from nltk.corpus import stopwords\n",
    "nltk.download('stopwords')\n",
    "stopword_list = set(stopwords.words('english'))\n",
    "from sklearn.feature_extraction.text import CountVectorizer, TfidfTransformer\n",
    "from sklearn.ensemble import RandomForestClassifier\n",
    "from sklearn.model_selection import train_test_split\n",
    "from sklearn.multioutput import MultiOutputClassifier"
   ]
  },
  {
   "cell_type": "code",
   "execution_count": 29,
   "metadata": {},
   "outputs": [
    {
     "data": {
      "text/plain": [
       "['messages']"
      ]
     },
     "execution_count": 29,
     "metadata": {},
     "output_type": "execute_result"
    }
   ],
   "source": [
    "# load data from database\n",
    "engine = create_engine('sqlite:///messages.db')\n",
    "con = engine.connect()\n",
    "\n",
    "# Find the names of tables inside of this database\n",
    "engine.table_names()"
   ]
  },
  {
   "cell_type": "code",
   "execution_count": 30,
   "metadata": {},
   "outputs": [],
   "source": [
    "df=pd.read_sql('messages',con)\n",
    "df.head()\n",
    "X=df['message'].values\n",
    "Y=df[df.columns[4:]].values.astype(int)"
   ]
  },
  {
   "cell_type": "markdown",
   "metadata": {},
   "source": [
    "### 2. Write a tokenization function to process your text data"
   ]
  },
  {
   "cell_type": "code",
   "execution_count": 31,
   "metadata": {},
   "outputs": [],
   "source": [
    "def tokenize(text):\n",
    "    text=re.sub(r\"[^a-zA-Z0-9]\",\" \",text.lower())\n",
    "    text=nltk.word_tokenize(text)\n",
    "    lemmatizer= nltk.stem.WordNetLemmatizer()\n",
    "    clean_tokens=[lemmatizer.lemmatize(i).strip() for i in text if i not in stopword_list]\n",
    "    return clean_tokens"
   ]
  },
  {
   "cell_type": "code",
   "execution_count": null,
   "metadata": {},
   "outputs": [],
   "source": []
  },
  {
   "cell_type": "markdown",
   "metadata": {},
   "source": [
    "### 3. Build a machine learning pipeline\n",
    "This machine pipeline should take in the `message` column as input and output classification results on the other 36 categories in the dataset. You may find the [MultiOutputClassifier](http://scikit-learn.org/stable/modules/generated/sklearn.multioutput.MultiOutputClassifier.html) helpful for predicting multiple target variables."
   ]
  },
  {
   "cell_type": "code",
   "execution_count": 32,
   "metadata": {},
   "outputs": [],
   "source": [
    "pipeline = Pipeline([\n",
    "    ('vect',CountVectorizer(tokenizer=tokenize)),\n",
    "    ('tfidf',TfidfTransformer()),\n",
    "    ('clf',MultiOutputClassifier(RandomForestClassifier(random_state=0)))\n",
    "])"
   ]
  },
  {
   "cell_type": "code",
   "execution_count": 91,
   "metadata": {},
   "outputs": [
    {
     "data": {
      "text/plain": [
       "array([ 'The system retards the rate at which the water runs off, and water permeates down and recharges the underground aquifer.',\n",
       "       'This shell is out of gas. #sandy (@Shell Gas Station) [pic]: http://t.co/j9eWplNq',\n",
       "       'Bad road conditions, worsened in winter by heavy snows, continue to be an impediment to food deliveries, particularly in mountainous areas.',\n",
       "       ..., \"It's a job that I need. Please help me find a job. \",\n",
       "       'Amid the announcement of a truce, Indian police said suspected militants had killed 11 people late Sunday and early Monday, most of them Hindus -- the majority population in India but the minority in Indian-held Kashmir.',\n",
       "       'She says she has added ground peanuts for protein and fat, and ground-up leaves from local moringa trees, which are packed with calcium and vitamins.'], dtype=object)"
      ]
     },
     "execution_count": 91,
     "metadata": {},
     "output_type": "execute_result"
    }
   ],
   "source": []
  },
  {
   "cell_type": "markdown",
   "metadata": {},
   "source": [
    "### 4. Train pipeline\n",
    "- Split data into train and test sets\n",
    "- Train pipeline"
   ]
  },
  {
   "cell_type": "code",
   "execution_count": 33,
   "metadata": {},
   "outputs": [],
   "source": [
    "X_train, X_test, y_train, y_test = train_test_split(X, Y, test_size = 0.25)\n",
    "pipeline.fit(X_train.astype(str), y_train)\n",
    "y_pred = pipeline.predict(X_test)\n"
   ]
  },
  {
   "cell_type": "code",
   "execution_count": null,
   "metadata": {},
   "outputs": [],
   "source": []
  },
  {
   "cell_type": "markdown",
   "metadata": {},
   "source": [
    "### 5. Test your model\n",
    "Report the f1 score, precision and recall for each output category of the dataset. You can do this by iterating through the columns and calling sklearn's `classification_report` on each."
   ]
  },
  {
   "cell_type": "code",
   "execution_count": 34,
   "metadata": {},
   "outputs": [
    {
     "name": "stdout",
     "output_type": "stream",
     "text": [
      "0 request-0\n",
      "             precision    recall  f1-score   support\n",
      "\n",
      "          0       0.48      0.63      0.54      1154\n",
      "          1       0.91      0.85      0.88      5331\n",
      "          2       0.50      0.33      0.40        69\n",
      "\n",
      "avg / total       0.83      0.81      0.82      6554\n",
      "\n",
      "1 offer-0\n",
      "             precision    recall  f1-score   support\n",
      "\n",
      "          0       0.98      0.89      0.93      5943\n",
      "          1       0.44      0.81      0.57       611\n",
      "\n",
      "avg / total       0.93      0.89      0.90      6554\n",
      "\n",
      "2 aid_related-0\n",
      "             precision    recall  f1-score   support\n",
      "\n",
      "          0       1.00      1.00      1.00      6554\n",
      "          1       0.00      0.00      0.00         0\n",
      "\n",
      "avg / total       1.00      1.00      1.00      6554\n",
      "\n",
      "3 medical_help-0\n",
      "             precision    recall  f1-score   support\n",
      "\n",
      "          0       0.84      0.76      0.80      4245\n",
      "          1       0.62      0.73      0.67      2309\n",
      "\n",
      "avg / total       0.76      0.75      0.75      6554\n",
      "\n",
      "4 medical_products-0\n",
      "             precision    recall  f1-score   support\n",
      "\n",
      "          0       0.99      0.92      0.96      6467\n",
      "          1       0.09      0.54      0.15        87\n",
      "\n",
      "avg / total       0.98      0.92      0.95      6554\n",
      "\n",
      "5 search_and_rescue-0\n",
      "             precision    recall  f1-score   support\n",
      "\n",
      "          0       1.00      0.95      0.98      6527\n",
      "          1       0.05      0.59      0.09        27\n",
      "\n",
      "avg / total       0.99      0.95      0.97      6554\n",
      "\n",
      "6 security-0\n",
      "             precision    recall  f1-score   support\n",
      "\n",
      "          0       1.00      0.98      0.99      6545\n",
      "          1       0.04      0.67      0.07         9\n",
      "\n",
      "avg / total       1.00      0.98      0.99      6554\n",
      "\n",
      "7 military-0\n",
      "             precision    recall  f1-score   support\n",
      "\n",
      "          0       1.00      0.98      0.99      6551\n",
      "          1       0.00      0.00      0.00         3\n",
      "\n",
      "avg / total       1.00      0.98      0.99      6554\n",
      "\n",
      "8 child_alone-0\n",
      "             precision    recall  f1-score   support\n",
      "\n",
      "          0       1.00      0.97      0.98      6522\n",
      "          1       0.10      0.69      0.17        32\n",
      "\n",
      "avg / total       0.99      0.97      0.98      6554\n",
      "\n",
      "9 water-0\n",
      "             precision    recall  f1-score   support\n",
      "\n",
      "          0       1.00      1.00      1.00      6554\n",
      "\n",
      "avg / total       1.00      1.00      1.00      6554\n",
      "\n",
      "10 food-0\n",
      "             precision    recall  f1-score   support\n",
      "\n",
      "          0       1.00      0.96      0.98      6368\n",
      "          1       0.39      0.86      0.53       186\n",
      "\n",
      "avg / total       0.98      0.96      0.97      6554\n",
      "\n",
      "11 shelter-0\n",
      "             precision    recall  f1-score   support\n",
      "\n",
      "          0       0.99      0.94      0.96      6102\n",
      "          1       0.49      0.84      0.62       452\n",
      "\n",
      "avg / total       0.95      0.93      0.94      6554\n",
      "\n",
      "12 clothing-0\n",
      "             precision    recall  f1-score   support\n",
      "\n",
      "          0       0.99      0.94      0.97      6298\n",
      "          1       0.37      0.82      0.51       256\n",
      "\n",
      "avg / total       0.97      0.94      0.95      6554\n",
      "\n",
      "13 money-0\n",
      "             precision    recall  f1-score   support\n",
      "\n",
      "          0       1.00      0.99      0.99      6540\n",
      "          1       0.08      0.57      0.14        14\n",
      "\n",
      "avg / total       1.00      0.99      0.99      6554\n",
      "\n",
      "14 missing_people-0\n",
      "             precision    recall  f1-score   support\n",
      "\n",
      "          0       1.00      0.98      0.99      6545\n",
      "          1       0.04      0.78      0.08         9\n",
      "\n",
      "avg / total       1.00      0.98      0.99      6554\n",
      "\n",
      "15 refugees-0\n",
      "             precision    recall  f1-score   support\n",
      "\n",
      "          0       1.00      0.99      0.99      6552\n",
      "          1       0.03      1.00      0.06         2\n",
      "\n",
      "avg / total       1.00      0.99      0.99      6554\n",
      "\n",
      "16 death-0\n",
      "             precision    recall  f1-score   support\n",
      "\n",
      "          0       1.00      0.97      0.98      6524\n",
      "          1       0.08      0.60      0.14        30\n",
      "\n",
      "avg / total       0.99      0.97      0.98      6554\n",
      "\n",
      "17 other_aid-0\n",
      "             precision    recall  f1-score   support\n",
      "\n",
      "          0       1.00      0.96      0.98      6472\n",
      "          1       0.21      0.82      0.34        82\n",
      "\n",
      "avg / total       0.99      0.96      0.97      6554\n",
      "\n",
      "18 infrastructure_related-0\n",
      "             precision    recall  f1-score   support\n",
      "\n",
      "          0       0.99      0.88      0.93      6467\n",
      "          1       0.06      0.62      0.12        87\n",
      "\n",
      "avg / total       0.98      0.88      0.92      6554\n",
      "\n",
      "19 transport-0\n",
      "             precision    recall  f1-score   support\n",
      "\n",
      "          0       1.00      0.94      0.97      6544\n",
      "          1       0.00      0.20      0.01        10\n",
      "\n",
      "avg / total       1.00      0.94      0.97      6554\n",
      "\n",
      "20 buildings-0\n",
      "             precision    recall  f1-score   support\n",
      "\n",
      "          0       1.00      0.96      0.98      6527\n",
      "          1       0.05      0.56      0.10        27\n",
      "\n",
      "avg / total       0.99      0.96      0.97      6554\n",
      "\n",
      "21 electricity-0\n",
      "             precision    recall  f1-score   support\n",
      "\n",
      "          0       1.00      0.95      0.98      6490\n",
      "          1       0.15      0.83      0.26        64\n",
      "\n",
      "avg / total       0.99      0.95      0.97      6554\n",
      "\n",
      "22 tools-0\n",
      "             precision    recall  f1-score   support\n",
      "\n",
      "          0       1.00      0.98      0.99      6549\n",
      "          1       0.02      0.60      0.04         5\n",
      "\n",
      "avg / total       1.00      0.98      0.99      6554\n",
      "\n",
      "23 hospitals-0\n",
      "             precision    recall  f1-score   support\n",
      "\n",
      "          0       1.00      0.99      1.00      6554\n",
      "          1       0.00      0.00      0.00         0\n",
      "\n",
      "avg / total       1.00      0.99      1.00      6554\n",
      "\n",
      "24 shops-0\n",
      "             precision    recall  f1-score   support\n",
      "\n",
      "          0       1.00      0.99      0.99      6554\n",
      "          1       0.00      0.00      0.00         0\n",
      "\n",
      "avg / total       1.00      0.99      0.99      6554\n",
      "\n",
      "25 aid_centers-0\n",
      "             precision    recall  f1-score   support\n",
      "\n",
      "          0       1.00      1.00      1.00      6554\n",
      "          1       0.00      0.00      0.00         0\n",
      "\n",
      "avg / total       1.00      1.00      1.00      6554\n",
      "\n",
      "26 other_infrastructure-0\n",
      "             precision    recall  f1-score   support\n",
      "\n",
      "          0       1.00      0.99      0.99      6554\n",
      "          1       0.00      0.00      0.00         0\n",
      "\n",
      "avg / total       1.00      0.99      0.99      6554\n",
      "\n",
      "27 weather_related-0\n",
      "             precision    recall  f1-score   support\n",
      "\n",
      "          0       1.00      0.96      0.98      6544\n",
      "          1       0.01      0.30      0.02        10\n",
      "\n",
      "avg / total       1.00      0.96      0.98      6554\n",
      "\n",
      "28 floods-0\n",
      "             precision    recall  f1-score   support\n",
      "\n",
      "          0       0.95      0.87      0.91      5220\n",
      "          1       0.62      0.83      0.71      1334\n",
      "\n",
      "avg / total       0.89      0.86      0.87      6554\n",
      "\n",
      "29 storm-0\n",
      "             precision    recall  f1-score   support\n",
      "\n",
      "          0       1.00      0.95      0.97      6358\n",
      "          1       0.34      0.88      0.49       196\n",
      "\n",
      "avg / total       0.98      0.95      0.96      6554\n",
      "\n",
      "30 fire-0\n",
      "             precision    recall  f1-score   support\n",
      "\n",
      "          0       0.99      0.94      0.97      6281\n",
      "          1       0.37      0.76      0.49       273\n",
      "\n",
      "avg / total       0.96      0.94      0.95      6554\n",
      "\n",
      "31 earthquake-0\n",
      "             precision    recall  f1-score   support\n",
      "\n",
      "          0       1.00      0.99      0.99      6553\n",
      "          1       0.01      1.00      0.03         1\n",
      "\n",
      "avg / total       1.00      0.99      0.99      6554\n",
      "\n",
      "32 cold-0\n",
      "             precision    recall  f1-score   support\n",
      "\n",
      "          0       0.99      0.97      0.98      6088\n",
      "          1       0.68      0.89      0.77       466\n",
      "\n",
      "avg / total       0.97      0.96      0.96      6554\n",
      "\n",
      "33 other_weather-0\n",
      "             precision    recall  f1-score   support\n",
      "\n",
      "          0       1.00      0.98      0.99      6523\n",
      "          1       0.16      0.71      0.26        31\n",
      "\n",
      "avg / total       0.99      0.98      0.99      6554\n",
      "\n",
      "34 direct_report-0\n",
      "             precision    recall  f1-score   support\n",
      "\n",
      "          0       1.00      0.95      0.97      6537\n",
      "          1       0.02      0.53      0.05        17\n",
      "\n",
      "avg / total       1.00      0.94      0.97      6554\n",
      "\n"
     ]
    },
    {
     "name": "stderr",
     "output_type": "stream",
     "text": [
      "/opt/conda/lib/python3.6/site-packages/sklearn/metrics/classification.py:1137: UndefinedMetricWarning: Recall and F-score are ill-defined and being set to 0.0 in labels with no true samples.\n",
      "  'recall', 'true', average, warn_for)\n"
     ]
    }
   ],
   "source": [
    "from sklearn.metrics import classification_report\n",
    "\n",
    "for i, col in enumerate(df.columns[5:]):\n",
    "    print(i,col)\n",
    "    print(classification_report(y_pred[:,i],y_test[:,i]))"
   ]
  },
  {
   "cell_type": "code",
   "execution_count": null,
   "metadata": {},
   "outputs": [],
   "source": []
  },
  {
   "cell_type": "code",
   "execution_count": null,
   "metadata": {},
   "outputs": [],
   "source": []
  },
  {
   "cell_type": "markdown",
   "metadata": {},
   "source": [
    "### 6. Improve your model\n",
    "Use grid search to find better parameters. "
   ]
  },
  {
   "cell_type": "code",
   "execution_count": 35,
   "metadata": {},
   "outputs": [
    {
     "data": {
      "text/plain": [
       "{'memory': None,\n",
       " 'steps': [('vect',\n",
       "   CountVectorizer(analyzer='word', binary=False, decode_error='strict',\n",
       "           dtype=<class 'numpy.int64'>, encoding='utf-8', input='content',\n",
       "           lowercase=True, max_df=1.0, max_features=None, min_df=1,\n",
       "           ngram_range=(1, 1), preprocessor=None, stop_words=None,\n",
       "           strip_accents=None, token_pattern='(?u)\\\\b\\\\w\\\\w+\\\\b',\n",
       "           tokenizer=<function tokenize at 0x7f03e766eb70>, vocabulary=None)),\n",
       "  ('tfidf',\n",
       "   TfidfTransformer(norm='l2', smooth_idf=True, sublinear_tf=False, use_idf=True)),\n",
       "  ('clf',\n",
       "   MultiOutputClassifier(estimator=RandomForestClassifier(bootstrap=True, class_weight=None, criterion='gini',\n",
       "               max_depth=None, max_features='auto', max_leaf_nodes=None,\n",
       "               min_impurity_decrease=0.0, min_impurity_split=None,\n",
       "               min_samples_leaf=1, min_samples_split=2,\n",
       "               min_weight_fraction_leaf=0.0, n_estimators=10, n_jobs=1,\n",
       "               oob_score=False, random_state=0, verbose=0, warm_start=False),\n",
       "              n_jobs=1))],\n",
       " 'vect': CountVectorizer(analyzer='word', binary=False, decode_error='strict',\n",
       "         dtype=<class 'numpy.int64'>, encoding='utf-8', input='content',\n",
       "         lowercase=True, max_df=1.0, max_features=None, min_df=1,\n",
       "         ngram_range=(1, 1), preprocessor=None, stop_words=None,\n",
       "         strip_accents=None, token_pattern='(?u)\\\\b\\\\w\\\\w+\\\\b',\n",
       "         tokenizer=<function tokenize at 0x7f03e766eb70>, vocabulary=None),\n",
       " 'tfidf': TfidfTransformer(norm='l2', smooth_idf=True, sublinear_tf=False, use_idf=True),\n",
       " 'clf': MultiOutputClassifier(estimator=RandomForestClassifier(bootstrap=True, class_weight=None, criterion='gini',\n",
       "             max_depth=None, max_features='auto', max_leaf_nodes=None,\n",
       "             min_impurity_decrease=0.0, min_impurity_split=None,\n",
       "             min_samples_leaf=1, min_samples_split=2,\n",
       "             min_weight_fraction_leaf=0.0, n_estimators=10, n_jobs=1,\n",
       "             oob_score=False, random_state=0, verbose=0, warm_start=False),\n",
       "            n_jobs=1),\n",
       " 'vect__analyzer': 'word',\n",
       " 'vect__binary': False,\n",
       " 'vect__decode_error': 'strict',\n",
       " 'vect__dtype': numpy.int64,\n",
       " 'vect__encoding': 'utf-8',\n",
       " 'vect__input': 'content',\n",
       " 'vect__lowercase': True,\n",
       " 'vect__max_df': 1.0,\n",
       " 'vect__max_features': None,\n",
       " 'vect__min_df': 1,\n",
       " 'vect__ngram_range': (1, 1),\n",
       " 'vect__preprocessor': None,\n",
       " 'vect__stop_words': None,\n",
       " 'vect__strip_accents': None,\n",
       " 'vect__token_pattern': '(?u)\\\\b\\\\w\\\\w+\\\\b',\n",
       " 'vect__tokenizer': <function __main__.tokenize(text)>,\n",
       " 'vect__vocabulary': None,\n",
       " 'tfidf__norm': 'l2',\n",
       " 'tfidf__smooth_idf': True,\n",
       " 'tfidf__sublinear_tf': False,\n",
       " 'tfidf__use_idf': True,\n",
       " 'clf__estimator__bootstrap': True,\n",
       " 'clf__estimator__class_weight': None,\n",
       " 'clf__estimator__criterion': 'gini',\n",
       " 'clf__estimator__max_depth': None,\n",
       " 'clf__estimator__max_features': 'auto',\n",
       " 'clf__estimator__max_leaf_nodes': None,\n",
       " 'clf__estimator__min_impurity_decrease': 0.0,\n",
       " 'clf__estimator__min_impurity_split': None,\n",
       " 'clf__estimator__min_samples_leaf': 1,\n",
       " 'clf__estimator__min_samples_split': 2,\n",
       " 'clf__estimator__min_weight_fraction_leaf': 0.0,\n",
       " 'clf__estimator__n_estimators': 10,\n",
       " 'clf__estimator__n_jobs': 1,\n",
       " 'clf__estimator__oob_score': False,\n",
       " 'clf__estimator__random_state': 0,\n",
       " 'clf__estimator__verbose': 0,\n",
       " 'clf__estimator__warm_start': False,\n",
       " 'clf__estimator': RandomForestClassifier(bootstrap=True, class_weight=None, criterion='gini',\n",
       "             max_depth=None, max_features='auto', max_leaf_nodes=None,\n",
       "             min_impurity_decrease=0.0, min_impurity_split=None,\n",
       "             min_samples_leaf=1, min_samples_split=2,\n",
       "             min_weight_fraction_leaf=0.0, n_estimators=10, n_jobs=1,\n",
       "             oob_score=False, random_state=0, verbose=0, warm_start=False),\n",
       " 'clf__n_jobs': 1}"
      ]
     },
     "execution_count": 35,
     "metadata": {},
     "output_type": "execute_result"
    }
   ],
   "source": [
    "pipeline.get_params()"
   ]
  },
  {
   "cell_type": "code",
   "execution_count": 36,
   "metadata": {},
   "outputs": [
    {
     "name": "stdout",
     "output_type": "stream",
     "text": [
      "Fitting 5 folds for each of 2 candidates, totalling 10 fits\n",
      "[CV] tfidf__smooth_idf=True ..........................................\n",
      "[CV]  tfidf__smooth_idf=True, score=0.23646071700991608, total=  53.9s\n",
      "[CV] tfidf__smooth_idf=True ..........................................\n"
     ]
    },
    {
     "name": "stderr",
     "output_type": "stream",
     "text": [
      "[Parallel(n_jobs=-1)]: Done   1 out of   1 | elapsed:  1.1min remaining:    0.0s\n"
     ]
    },
    {
     "name": "stdout",
     "output_type": "stream",
     "text": [
      "[CV]  tfidf__smooth_idf=True, score=0.24052885837782864, total=  53.9s\n",
      "[CV] tfidf__smooth_idf=True ..........................................\n"
     ]
    },
    {
     "name": "stderr",
     "output_type": "stream",
     "text": [
      "[Parallel(n_jobs=-1)]: Done   2 out of   2 | elapsed:  2.1min remaining:    0.0s\n"
     ]
    },
    {
     "name": "stdout",
     "output_type": "stream",
     "text": [
      "[CV]  tfidf__smooth_idf=True, score=0.23118006103763988, total=  53.4s\n",
      "[CV] tfidf__smooth_idf=True ..........................................\n"
     ]
    },
    {
     "name": "stderr",
     "output_type": "stream",
     "text": [
      "[Parallel(n_jobs=-1)]: Done   3 out of   3 | elapsed:  3.2min remaining:    0.0s\n"
     ]
    },
    {
     "name": "stdout",
     "output_type": "stream",
     "text": [
      "[CV] . tfidf__smooth_idf=True, score=0.2451678535096643, total=  53.6s\n",
      "[CV] tfidf__smooth_idf=True ..........................................\n"
     ]
    },
    {
     "name": "stderr",
     "output_type": "stream",
     "text": [
      "[Parallel(n_jobs=-1)]: Done   4 out of   4 | elapsed:  4.3min remaining:    0.0s\n"
     ]
    },
    {
     "name": "stdout",
     "output_type": "stream",
     "text": [
      "[CV]  tfidf__smooth_idf=True, score=0.24313326551373346, total=  54.1s\n",
      "[CV] tfidf__smooth_idf=False .........................................\n",
      "[CV]  tfidf__smooth_idf=False, score=0.24078311721332316, total=  54.3s\n",
      "[CV] tfidf__smooth_idf=False .........................................\n",
      "[CV]  tfidf__smooth_idf=False, score=0.24383422323925757, total=  53.6s\n",
      "[CV] tfidf__smooth_idf=False .........................................\n",
      "[CV]  tfidf__smooth_idf=False, score=0.23296032553407936, total=  53.1s\n",
      "[CV] tfidf__smooth_idf=False .........................................\n",
      "[CV] . tfidf__smooth_idf=False, score=0.241353001017294, total=  53.2s\n",
      "[CV] tfidf__smooth_idf=False .........................................\n",
      "[CV] . tfidf__smooth_idf=False, score=0.237029501525941, total=  54.0s\n"
     ]
    },
    {
     "name": "stderr",
     "output_type": "stream",
     "text": [
      "[Parallel(n_jobs=-1)]: Done  10 out of  10 | elapsed: 10.6min finished\n"
     ]
    },
    {
     "data": {
      "text/plain": [
       "GridSearchCV(cv=5, error_score='raise',\n",
       "       estimator=Pipeline(memory=None,\n",
       "     steps=[('vect', CountVectorizer(analyzer='word', binary=False, decode_error='strict',\n",
       "        dtype=<class 'numpy.int64'>, encoding='utf-8', input='content',\n",
       "        lowercase=True, max_df=1.0, max_features=None, min_df=1,\n",
       "        ngram_range=(1, 1), preprocessor=None, stop_words=None,\n",
       "        strip...1,\n",
       "            oob_score=False, random_state=0, verbose=0, warm_start=False),\n",
       "           n_jobs=1))]),\n",
       "       fit_params=None, iid=True, n_jobs=-1,\n",
       "       param_grid={'tfidf__smooth_idf': [True, False]},\n",
       "       pre_dispatch='2*n_jobs', refit=True, return_train_score='warn',\n",
       "       scoring=None, verbose=5)"
      ]
     },
     "execution_count": 36,
     "metadata": {},
     "output_type": "execute_result"
    }
   ],
   "source": [
    "from sklearn.model_selection import GridSearchCV\n",
    "\n",
    "cv_parameters = parameters = {\n",
    "              'tfidf__smooth_idf':[True, False],\n",
    "              #'tfidf__sublinear_tf': [True, False],\n",
    "              #'tfidf__use_idf': [True, False],\n",
    "             }\n",
    "\n",
    "cv = GridSearchCV(pipeline, param_grid=parameters, cv=5, verbose=5, n_jobs=-1)\n",
    "cv.fit(X_train,y_train)"
   ]
  },
  {
   "cell_type": "markdown",
   "metadata": {},
   "source": [
    "### 7. Test your model\n",
    "Show the accuracy, precision, and recall of the tuned model.  \n",
    "\n",
    "Since this project focuses on code quality, process, and  pipelines, there is no minimum performance metric needed to pass. However, make sure to fine tune your models for accuracy, precision and recall to make your project stand out - especially for your portfolio!"
   ]
  },
  {
   "cell_type": "code",
   "execution_count": 37,
   "metadata": {},
   "outputs": [
    {
     "name": "stdout",
     "output_type": "stream",
     "text": [
      "0 request-0\n",
      "             precision    recall  f1-score   support\n",
      "\n",
      "          0       0.48      0.63      0.54      1154\n",
      "          1       0.91      0.85      0.88      5331\n",
      "          2       0.50      0.33      0.40        69\n",
      "\n",
      "avg / total       0.83      0.81      0.82      6554\n",
      "\n",
      "1 offer-0\n",
      "             precision    recall  f1-score   support\n",
      "\n",
      "          0       0.98      0.89      0.93      5943\n",
      "          1       0.44      0.81      0.57       611\n",
      "\n",
      "avg / total       0.93      0.89      0.90      6554\n",
      "\n",
      "2 aid_related-0\n",
      "             precision    recall  f1-score   support\n",
      "\n",
      "          0       1.00      1.00      1.00      6554\n",
      "          1       0.00      0.00      0.00         0\n",
      "\n",
      "avg / total       1.00      1.00      1.00      6554\n",
      "\n",
      "3 medical_help-0\n",
      "             precision    recall  f1-score   support\n",
      "\n",
      "          0       0.84      0.76      0.80      4245\n",
      "          1       0.62      0.73      0.67      2309\n",
      "\n",
      "avg / total       0.76      0.75      0.75      6554\n",
      "\n",
      "4 medical_products-0\n",
      "             precision    recall  f1-score   support\n",
      "\n",
      "          0       0.99      0.92      0.96      6467\n",
      "          1       0.09      0.54      0.15        87\n",
      "\n",
      "avg / total       0.98      0.92      0.95      6554\n",
      "\n",
      "5 search_and_rescue-0\n",
      "             precision    recall  f1-score   support\n",
      "\n",
      "          0       1.00      0.95      0.98      6527\n",
      "          1       0.05      0.59      0.09        27\n",
      "\n",
      "avg / total       0.99      0.95      0.97      6554\n",
      "\n",
      "6 security-0\n",
      "             precision    recall  f1-score   support\n",
      "\n",
      "          0       1.00      0.98      0.99      6545\n",
      "          1       0.04      0.67      0.07         9\n",
      "\n",
      "avg / total       1.00      0.98      0.99      6554\n",
      "\n",
      "7 military-0\n",
      "             precision    recall  f1-score   support\n",
      "\n",
      "          0       1.00      0.98      0.99      6551\n",
      "          1       0.00      0.00      0.00         3\n",
      "\n",
      "avg / total       1.00      0.98      0.99      6554\n",
      "\n",
      "8 child_alone-0\n",
      "             precision    recall  f1-score   support\n",
      "\n",
      "          0       1.00      0.97      0.98      6522\n",
      "          1       0.10      0.69      0.17        32\n",
      "\n",
      "avg / total       0.99      0.97      0.98      6554\n",
      "\n",
      "9 water-0\n",
      "             precision    recall  f1-score   support\n",
      "\n",
      "          0       1.00      1.00      1.00      6554\n",
      "\n",
      "avg / total       1.00      1.00      1.00      6554\n",
      "\n",
      "10 food-0\n",
      "             precision    recall  f1-score   support\n",
      "\n",
      "          0       1.00      0.96      0.98      6368\n",
      "          1       0.39      0.86      0.53       186\n",
      "\n",
      "avg / total       0.98      0.96      0.97      6554\n",
      "\n",
      "11 shelter-0\n",
      "             precision    recall  f1-score   support\n",
      "\n",
      "          0       0.99      0.94      0.96      6102\n",
      "          1       0.49      0.84      0.62       452\n",
      "\n",
      "avg / total       0.95      0.93      0.94      6554\n",
      "\n",
      "12 clothing-0\n",
      "             precision    recall  f1-score   support\n",
      "\n",
      "          0       0.99      0.94      0.97      6298\n",
      "          1       0.37      0.82      0.51       256\n",
      "\n",
      "avg / total       0.97      0.94      0.95      6554\n",
      "\n",
      "13 money-0\n",
      "             precision    recall  f1-score   support\n",
      "\n",
      "          0       1.00      0.99      0.99      6540\n",
      "          1       0.08      0.57      0.14        14\n",
      "\n",
      "avg / total       1.00      0.99      0.99      6554\n",
      "\n",
      "14 missing_people-0\n",
      "             precision    recall  f1-score   support\n",
      "\n",
      "          0       1.00      0.98      0.99      6545\n",
      "          1       0.04      0.78      0.08         9\n",
      "\n",
      "avg / total       1.00      0.98      0.99      6554\n",
      "\n",
      "15 refugees-0\n",
      "             precision    recall  f1-score   support\n",
      "\n",
      "          0       1.00      0.99      0.99      6552\n",
      "          1       0.03      1.00      0.06         2\n",
      "\n",
      "avg / total       1.00      0.99      0.99      6554\n",
      "\n",
      "16 death-0\n",
      "             precision    recall  f1-score   support\n",
      "\n",
      "          0       1.00      0.97      0.98      6524\n",
      "          1       0.08      0.60      0.14        30\n",
      "\n",
      "avg / total       0.99      0.97      0.98      6554\n",
      "\n",
      "17 other_aid-0\n",
      "             precision    recall  f1-score   support\n",
      "\n",
      "          0       1.00      0.96      0.98      6472\n",
      "          1       0.21      0.82      0.34        82\n",
      "\n",
      "avg / total       0.99      0.96      0.97      6554\n",
      "\n",
      "18 infrastructure_related-0\n",
      "             precision    recall  f1-score   support\n",
      "\n",
      "          0       0.99      0.88      0.93      6467\n",
      "          1       0.06      0.62      0.12        87\n",
      "\n",
      "avg / total       0.98      0.88      0.92      6554\n",
      "\n",
      "19 transport-0\n",
      "             precision    recall  f1-score   support\n",
      "\n",
      "          0       1.00      0.94      0.97      6544\n",
      "          1       0.00      0.20      0.01        10\n",
      "\n",
      "avg / total       1.00      0.94      0.97      6554\n",
      "\n",
      "20 buildings-0\n",
      "             precision    recall  f1-score   support\n",
      "\n",
      "          0       1.00      0.96      0.98      6527\n",
      "          1       0.05      0.56      0.10        27\n",
      "\n",
      "avg / total       0.99      0.96      0.97      6554\n",
      "\n",
      "21 electricity-0\n",
      "             precision    recall  f1-score   support\n",
      "\n",
      "          0       1.00      0.95      0.98      6490\n",
      "          1       0.15      0.83      0.26        64\n",
      "\n",
      "avg / total       0.99      0.95      0.97      6554\n",
      "\n",
      "22 tools-0\n",
      "             precision    recall  f1-score   support\n",
      "\n",
      "          0       1.00      0.98      0.99      6549\n",
      "          1       0.02      0.60      0.04         5\n",
      "\n",
      "avg / total       1.00      0.98      0.99      6554\n",
      "\n",
      "23 hospitals-0\n",
      "             precision    recall  f1-score   support\n",
      "\n",
      "          0       1.00      0.99      1.00      6554\n",
      "          1       0.00      0.00      0.00         0\n",
      "\n",
      "avg / total       1.00      0.99      1.00      6554\n",
      "\n",
      "24 shops-0\n",
      "             precision    recall  f1-score   support\n",
      "\n",
      "          0       1.00      0.99      0.99      6554\n",
      "          1       0.00      0.00      0.00         0\n",
      "\n",
      "avg / total       1.00      0.99      0.99      6554\n",
      "\n",
      "25 aid_centers-0\n",
      "             precision    recall  f1-score   support\n",
      "\n",
      "          0       1.00      1.00      1.00      6554\n",
      "          1       0.00      0.00      0.00         0\n",
      "\n",
      "avg / total       1.00      1.00      1.00      6554\n",
      "\n",
      "26 other_infrastructure-0\n",
      "             precision    recall  f1-score   support\n",
      "\n",
      "          0       1.00      0.99      0.99      6554\n",
      "          1       0.00      0.00      0.00         0\n",
      "\n",
      "avg / total       1.00      0.99      0.99      6554\n",
      "\n",
      "27 weather_related-0\n",
      "             precision    recall  f1-score   support\n",
      "\n",
      "          0       1.00      0.96      0.98      6544\n",
      "          1       0.01      0.30      0.02        10\n",
      "\n",
      "avg / total       1.00      0.96      0.98      6554\n",
      "\n",
      "28 floods-0\n",
      "             precision    recall  f1-score   support\n",
      "\n",
      "          0       0.95      0.87      0.91      5220\n",
      "          1       0.62      0.83      0.71      1334\n",
      "\n",
      "avg / total       0.89      0.86      0.87      6554\n",
      "\n",
      "29 storm-0\n",
      "             precision    recall  f1-score   support\n",
      "\n",
      "          0       1.00      0.95      0.97      6358\n",
      "          1       0.34      0.88      0.49       196\n",
      "\n",
      "avg / total       0.98      0.95      0.96      6554\n",
      "\n",
      "30 fire-0\n",
      "             precision    recall  f1-score   support\n",
      "\n",
      "          0       0.99      0.94      0.97      6281\n",
      "          1       0.37      0.76      0.49       273\n",
      "\n",
      "avg / total       0.96      0.94      0.95      6554\n",
      "\n",
      "31 earthquake-0\n",
      "             precision    recall  f1-score   support\n",
      "\n",
      "          0       1.00      0.99      0.99      6553\n",
      "          1       0.01      1.00      0.03         1\n",
      "\n",
      "avg / total       1.00      0.99      0.99      6554\n",
      "\n",
      "32 cold-0\n",
      "             precision    recall  f1-score   support\n",
      "\n",
      "          0       0.99      0.97      0.98      6088\n",
      "          1       0.68      0.89      0.77       466\n",
      "\n",
      "avg / total       0.97      0.96      0.96      6554\n",
      "\n",
      "33 other_weather-0\n",
      "             precision    recall  f1-score   support\n",
      "\n",
      "          0       1.00      0.98      0.99      6523\n",
      "          1       0.16      0.71      0.26        31\n",
      "\n",
      "avg / total       0.99      0.98      0.99      6554\n",
      "\n",
      "34 direct_report-0\n",
      "             precision    recall  f1-score   support\n",
      "\n",
      "          0       1.00      0.95      0.97      6537\n",
      "          1       0.02      0.53      0.05        17\n",
      "\n",
      "avg / total       1.00      0.94      0.97      6554\n",
      "\n"
     ]
    },
    {
     "name": "stderr",
     "output_type": "stream",
     "text": [
      "/opt/conda/lib/python3.6/site-packages/sklearn/metrics/classification.py:1137: UndefinedMetricWarning: Recall and F-score are ill-defined and being set to 0.0 in labels with no true samples.\n",
      "  'recall', 'true', average, warn_for)\n"
     ]
    }
   ],
   "source": [
    "y_pred=cv.predict(X_test)\n",
    "\n",
    "for i, col in enumerate(df.columns[5:]):\n",
    "    print(i,col)\n",
    "    print(classification_report(y_pred[:,i],y_test[:,i]))"
   ]
  },
  {
   "cell_type": "markdown",
   "metadata": {},
   "source": [
    "### 8. Try improving your model further. Here are a few ideas:\n",
    "* try other machine learning algorithms\n",
    "* add other features besides the TF-IDF"
   ]
  },
  {
   "cell_type": "code",
   "execution_count": 38,
   "metadata": {},
   "outputs": [],
   "source": [
    "from sklearn.base import BaseEstimator, TransformerMixin\n",
    "from sklearn.pipeline import FeatureUnion\n",
    "from sklearn.svm import SVC\n",
    "class TextLengthExtractor(BaseEstimator, TransformerMixin):\n",
    "\n",
    "    def sentence_length(self, text):\n",
    "        sentence_list = nltk.sent_tokenize(text)\n",
    "        \n",
    "        return len(sentence_list)\n",
    "\n",
    "    def fit(self, x, y=None):\n",
    "        return self\n",
    "    \n",
    "    def transform(self, X):\n",
    "        X_len = pd.Series(X).apply(self.sentence_length)\n",
    "        return pd.DataFrame(X_len)"
   ]
  },
  {
   "cell_type": "code",
   "execution_count": 39,
   "metadata": {},
   "outputs": [],
   "source": [
    "new_pipeline = Pipeline([\n",
    "        ('Feature_Union',FeatureUnion([\n",
    "            \n",
    "            ('text_pipeline',Pipeline([\n",
    "                ('vect',CountVectorizer(tokenizer=tokenize)),\n",
    "                ('tfid',TfidfTransformer())\n",
    "            ])),\n",
    "        \n",
    "            ('Text_Length',TextLengthExtractor()),\n",
    "            \n",
    "        ])),\n",
    "        \n",
    "        ('clf',MultiOutputClassifier(RandomForestClassifier(random_state=0)))\n",
    "    ])\n",
    "\n"
   ]
  },
  {
   "cell_type": "code",
   "execution_count": 151,
   "metadata": {},
   "outputs": [
    {
     "data": {
      "text/plain": [
       "<bound method Pipeline.get_params of Pipeline(memory=None,\n",
       "     steps=[('Feature_Union', FeatureUnion(n_jobs=1,\n",
       "       transformer_list=[('text_pipeline', Pipeline(memory=None,\n",
       "     steps=[('vect', CountVectorizer(analyzer='word', binary=False, decode_error='strict',\n",
       "        dtype=<class 'numpy.int64'>, encoding='utf-8', input='content',\n",
       "        lowercase=True, ...n_jobs=1,\n",
       "            oob_score=False, random_state=None, verbose=0,\n",
       "            warm_start=False))])>"
      ]
     },
     "execution_count": 151,
     "metadata": {},
     "output_type": "execute_result"
    }
   ],
   "source": []
  },
  {
   "cell_type": "code",
   "execution_count": 40,
   "metadata": {},
   "outputs": [],
   "source": [
    "parameters = new_parameters = {\n",
    "              'clf__estimator__n_estimators' : [10,20,50]\n",
    "              #'tfidf__sublinear_tf': [True, False],\n",
    "              #'tfidf__use_idf': [True, False],             \n",
    "             }\n"
   ]
  },
  {
   "cell_type": "code",
   "execution_count": 41,
   "metadata": {},
   "outputs": [
    {
     "name": "stdout",
     "output_type": "stream",
     "text": [
      "Fitting 5 folds for each of 3 candidates, totalling 15 fits\n",
      "[CV] clf__estimator__n_estimators=10 .................................\n",
      "[CV]  clf__estimator__n_estimators=10, score=0.23646071700991608, total=  54.1s\n",
      "[CV] clf__estimator__n_estimators=10 .................................\n"
     ]
    },
    {
     "name": "stderr",
     "output_type": "stream",
     "text": [
      "[Parallel(n_jobs=-1)]: Done   1 out of   1 | elapsed:  1.1min remaining:    0.0s\n"
     ]
    },
    {
     "name": "stdout",
     "output_type": "stream",
     "text": [
      "[CV]  clf__estimator__n_estimators=10, score=0.24052885837782864, total=  53.4s\n",
      "[CV] clf__estimator__n_estimators=10 .................................\n"
     ]
    },
    {
     "name": "stderr",
     "output_type": "stream",
     "text": [
      "[Parallel(n_jobs=-1)]: Done   2 out of   2 | elapsed:  2.1min remaining:    0.0s\n"
     ]
    },
    {
     "name": "stdout",
     "output_type": "stream",
     "text": [
      "[CV]  clf__estimator__n_estimators=10, score=0.23118006103763988, total=  53.3s\n",
      "[CV] clf__estimator__n_estimators=10 .................................\n"
     ]
    },
    {
     "name": "stderr",
     "output_type": "stream",
     "text": [
      "[Parallel(n_jobs=-1)]: Done   3 out of   3 | elapsed:  3.2min remaining:    0.0s\n"
     ]
    },
    {
     "name": "stdout",
     "output_type": "stream",
     "text": [
      "[CV]  clf__estimator__n_estimators=10, score=0.2451678535096643, total=  53.4s\n",
      "[CV] clf__estimator__n_estimators=10 .................................\n"
     ]
    },
    {
     "name": "stderr",
     "output_type": "stream",
     "text": [
      "[Parallel(n_jobs=-1)]: Done   4 out of   4 | elapsed:  4.2min remaining:    0.0s\n"
     ]
    },
    {
     "name": "stdout",
     "output_type": "stream",
     "text": [
      "[CV]  clf__estimator__n_estimators=10, score=0.24313326551373346, total=  54.0s\n",
      "[CV] clf__estimator__n_estimators=20 .................................\n",
      "[CV]  clf__estimator__n_estimators=20, score=0.25273328248156623, total= 1.7min\n",
      "[CV] clf__estimator__n_estimators=20 .................................\n",
      "[CV]  clf__estimator__n_estimators=20, score=0.2517162471395881, total= 1.7min\n",
      "[CV] clf__estimator__n_estimators=20 .................................\n",
      "[CV]  clf__estimator__n_estimators=20, score=0.2489827060020346, total= 1.7min\n",
      "[CV] clf__estimator__n_estimators=20 .................................\n",
      "[CV]  clf__estimator__n_estimators=20, score=0.25508646998982704, total= 1.7min\n",
      "[CV] clf__estimator__n_estimators=20 .................................\n",
      "[CV] ...... clf__estimator__n_estimators=20, score=0.25, total= 1.7min\n",
      "[CV] clf__estimator__n_estimators=50 .................................\n",
      "[CV]  clf__estimator__n_estimators=50, score=0.2608695652173913, total= 4.0min\n",
      "[CV] clf__estimator__n_estimators=50 .................................\n",
      "[CV]  clf__estimator__n_estimators=50, score=0.2608695652173913, total= 4.0min\n",
      "[CV] clf__estimator__n_estimators=50 .................................\n",
      "[CV]  clf__estimator__n_estimators=50, score=0.2581383519837233, total= 4.0min\n",
      "[CV] clf__estimator__n_estimators=50 .................................\n",
      "[CV]  clf__estimator__n_estimators=50, score=0.2591556459816887, total= 3.9min\n",
      "[CV] clf__estimator__n_estimators=50 .................................\n",
      "[CV]  clf__estimator__n_estimators=50, score=0.2561037639877925, total= 4.1min\n"
     ]
    },
    {
     "name": "stderr",
     "output_type": "stream",
     "text": [
      "[Parallel(n_jobs=-1)]: Done  15 out of  15 | elapsed: 37.2min finished\n"
     ]
    },
    {
     "data": {
      "text/plain": [
       "GridSearchCV(cv=5, error_score='raise',\n",
       "       estimator=Pipeline(memory=None,\n",
       "     steps=[('vect', CountVectorizer(analyzer='word', binary=False, decode_error='strict',\n",
       "        dtype=<class 'numpy.int64'>, encoding='utf-8', input='content',\n",
       "        lowercase=True, max_df=1.0, max_features=None, min_df=1,\n",
       "        ngram_range=(1, 1), preprocessor=None, stop_words=None,\n",
       "        strip...1,\n",
       "            oob_score=False, random_state=0, verbose=0, warm_start=False),\n",
       "           n_jobs=1))]),\n",
       "       fit_params=None, iid=True, n_jobs=-1,\n",
       "       param_grid={'clf__estimator__n_estimators': [10, 20, 50]},\n",
       "       pre_dispatch='2*n_jobs', refit=True, return_train_score='warn',\n",
       "       scoring=None, verbose=5)"
      ]
     },
     "execution_count": 41,
     "metadata": {},
     "output_type": "execute_result"
    }
   ],
   "source": [
    "cv = GridSearchCV(pipeline, param_grid=new_parameters, cv=5, verbose=5, n_jobs=-1)\n",
    "cv.fit(X_train,y_train)"
   ]
  },
  {
   "cell_type": "code",
   "execution_count": 46,
   "metadata": {},
   "outputs": [
    {
     "data": {
      "text/plain": [
       "array([[1, 0, 0, ..., 0, 0, 0],\n",
       "       [0, 0, 0, ..., 0, 0, 0],\n",
       "       [0, 0, 0, ..., 0, 0, 0],\n",
       "       ..., \n",
       "       [1, 0, 0, ..., 0, 0, 0],\n",
       "       [1, 0, 0, ..., 0, 0, 0],\n",
       "       [1, 0, 0, ..., 0, 0, 0]])"
      ]
     },
     "execution_count": 46,
     "metadata": {},
     "output_type": "execute_result"
    }
   ],
   "source": [
    "pipeline.predict(X_test)"
   ]
  },
  {
   "cell_type": "markdown",
   "metadata": {},
   "source": [
    "### 9. Export your model as a pickle file"
   ]
  },
  {
   "cell_type": "code",
   "execution_count": 47,
   "metadata": {},
   "outputs": [
    {
     "data": {
      "text/plain": [
       "['optimized_pipline.pkl']"
      ]
     },
     "execution_count": 47,
     "metadata": {},
     "output_type": "execute_result"
    }
   ],
   "source": [
    "import joblib\n",
    "joblib.dump(pipeline, \"optimized_pipline.pkl\")"
   ]
  },
  {
   "cell_type": "code",
   "execution_count": null,
   "metadata": {},
   "outputs": [],
   "source": [
    "pipeline"
   ]
  },
  {
   "cell_type": "markdown",
   "metadata": {},
   "source": [
    "### 10. Use this notebook to complete `train.py`\n",
    "Use the template file attached in the Resources folder to write a script that runs the steps above to create a database and export a model based on a new dataset specified by the user."
   ]
  },
  {
   "cell_type": "code",
   "execution_count": 1,
   "metadata": {},
   "outputs": [
    {
     "ename": "NameError",
     "evalue": "name 'cv' is not defined",
     "output_type": "error",
     "traceback": [
      "\u001b[0;31m---------------------------------------------------------------------------\u001b[0m",
      "\u001b[0;31mNameError\u001b[0m                                 Traceback (most recent call last)",
      "\u001b[0;32m<ipython-input-1-ea2096ab178d>\u001b[0m in \u001b[0;36m<module>\u001b[0;34m()\u001b[0m\n\u001b[0;32m----> 1\u001b[0;31m \u001b[0mcv\u001b[0m\u001b[0;34m\u001b[0m\u001b[0m\n\u001b[0m",
      "\u001b[0;31mNameError\u001b[0m: name 'cv' is not defined"
     ]
    }
   ],
   "source": []
  },
  {
   "cell_type": "code",
   "execution_count": null,
   "metadata": {},
   "outputs": [],
   "source": []
  }
 ],
 "metadata": {
  "kernelspec": {
   "display_name": "Python 3",
   "language": "python",
   "name": "python3"
  },
  "language_info": {
   "codemirror_mode": {
    "name": "ipython",
    "version": 3
   },
   "file_extension": ".py",
   "mimetype": "text/x-python",
   "name": "python",
   "nbconvert_exporter": "python",
   "pygments_lexer": "ipython3",
   "version": "3.6.3"
  }
 },
 "nbformat": 4,
 "nbformat_minor": 2
}
